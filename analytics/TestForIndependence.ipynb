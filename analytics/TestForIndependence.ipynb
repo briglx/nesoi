{
 "cells": [
  {
   "cell_type": "code",
   "execution_count": 11,
   "metadata": {
    "collapsed": true
   },
   "outputs": [],
   "source": [
    "import pymongo\n",
    "import operator\n",
    "import numpy as np\n",
    "from pymongo import MongoClient\n",
    "import pandas as pd"
   ]
  },
  {
   "cell_type": "code",
   "execution_count": 12,
   "metadata": {
    "collapsed": false
   },
   "outputs": [
    {
     "data": {
      "text/plain": [
       "22639"
      ]
     },
     "execution_count": 12,
     "metadata": {},
     "output_type": "execute_result"
    }
   ],
   "source": [
    "# Load dataset\n",
    "client = MongoClient('localhost', 27017)\n",
    "db = client.nesoi\n",
    "terrain = db.terrain\n",
    "terrain.count() # Should be 22639"
   ]
  },
  {
   "cell_type": "code",
   "execution_count": 13,
   "metadata": {
    "collapsed": false
   },
   "outputs": [],
   "source": [
    "def idxToCoord(idx): \n",
    "    x = idx % 16\n",
    "    y = idx / 16\n",
    "    return x, y  \n",
    "\n",
    "def getPairs(idx, idx2):\n",
    "    \n",
    "# Validate pairs of cells.\n",
    "# Show all terrain for cell index 0 and 1\n",
    "    \n",
    "    x, y = idxToCoord(idx)\n",
    "\n",
    "    data = []\n",
    "    for cell in terrain.find({\"idx\":idx}):\n",
    "        \n",
    "        # find x.y offset between idx 1 and idx2\n",
    "        x2, y2 = idxToCoord(idx2)\n",
    "        delx = x2-x\n",
    "        dely = y2-y\n",
    "        \n",
    "\n",
    "        # Find the origin cell for this page  \n",
    "        cell2 = terrain.find_one({\"x\":cell[\"x\"] + delx, \"y\":cell[\"y\"] + dely})\n",
    "\n",
    "        data.append((cell[\"terrain\"], cell2[\"terrain\"]))\n",
    "    #     print cell[\"terrain\"], cell2[\"terrain\"]\n",
    "\n",
    "    df = pd.DataFrame(data)\n",
    "\n",
    "    # Add Column titles\n",
    "    df.columns = [\"Cell0\", \"Cell1\"]\n",
    "    df['Count'] = 1\n",
    "    \n",
    "    return df"
   ]
  },
  {
   "cell_type": "code",
   "execution_count": 14,
   "metadata": {
    "collapsed": false
   },
   "outputs": [],
   "source": [
    "def createObservationDisribution(idx, idx2):\n",
    "    df = getPairs(0,1)\n",
    "    df_pivot = df.pivot_table(index='Cell0', columns='Cell1', values='Count', aggfunc='sum')\n",
    "    return df_pivot\n",
    "    "
   ]
  },
  {
   "cell_type": "code",
   "execution_count": 15,
   "metadata": {
    "collapsed": false
   },
   "outputs": [],
   "source": [
    "df_pivot = createObservationDisribution(0, 1)"
   ]
  },
  {
   "cell_type": "code",
   "execution_count": 16,
   "metadata": {
    "collapsed": false
   },
   "outputs": [
    {
     "data": {
      "text/html": [
       "<div>\n",
       "<table border=\"1\" class=\"dataframe\">\n",
       "  <thead>\n",
       "    <tr style=\"text-align: right;\">\n",
       "      <th>Cell1</th>\n",
       "      <th>bushGreen</th>\n",
       "      <th>bushRed</th>\n",
       "      <th>dirt</th>\n",
       "      <th>mountainGreen</th>\n",
       "      <th>mountainRed</th>\n",
       "      <th>mountainWhite</th>\n",
       "      <th>sand</th>\n",
       "      <th>waterGreen</th>\n",
       "      <th>waterRed</th>\n",
       "    </tr>\n",
       "    <tr>\n",
       "      <th>Cell0</th>\n",
       "      <th></th>\n",
       "      <th></th>\n",
       "      <th></th>\n",
       "      <th></th>\n",
       "      <th></th>\n",
       "      <th></th>\n",
       "      <th></th>\n",
       "      <th></th>\n",
       "      <th></th>\n",
       "    </tr>\n",
       "  </thead>\n",
       "  <tbody>\n",
       "    <tr>\n",
       "      <th>bushGreen</th>\n",
       "      <td>15.0</td>\n",
       "      <td>NaN</td>\n",
       "      <td>3.0</td>\n",
       "      <td>NaN</td>\n",
       "      <td>NaN</td>\n",
       "      <td>NaN</td>\n",
       "      <td>NaN</td>\n",
       "      <td>NaN</td>\n",
       "      <td>NaN</td>\n",
       "    </tr>\n",
       "    <tr>\n",
       "      <th>bushRed</th>\n",
       "      <td>NaN</td>\n",
       "      <td>10.0</td>\n",
       "      <td>NaN</td>\n",
       "      <td>NaN</td>\n",
       "      <td>NaN</td>\n",
       "      <td>NaN</td>\n",
       "      <td>NaN</td>\n",
       "      <td>NaN</td>\n",
       "      <td>NaN</td>\n",
       "    </tr>\n",
       "    <tr>\n",
       "      <th>mountainGreen</th>\n",
       "      <td>NaN</td>\n",
       "      <td>NaN</td>\n",
       "      <td>NaN</td>\n",
       "      <td>14.0</td>\n",
       "      <td>NaN</td>\n",
       "      <td>NaN</td>\n",
       "      <td>NaN</td>\n",
       "      <td>NaN</td>\n",
       "      <td>NaN</td>\n",
       "    </tr>\n",
       "    <tr>\n",
       "      <th>mountainRed</th>\n",
       "      <td>NaN</td>\n",
       "      <td>NaN</td>\n",
       "      <td>NaN</td>\n",
       "      <td>NaN</td>\n",
       "      <td>64.0</td>\n",
       "      <td>NaN</td>\n",
       "      <td>1.0</td>\n",
       "      <td>NaN</td>\n",
       "      <td>NaN</td>\n",
       "    </tr>\n",
       "    <tr>\n",
       "      <th>mountainWhite</th>\n",
       "      <td>NaN</td>\n",
       "      <td>NaN</td>\n",
       "      <td>NaN</td>\n",
       "      <td>NaN</td>\n",
       "      <td>NaN</td>\n",
       "      <td>8.0</td>\n",
       "      <td>NaN</td>\n",
       "      <td>NaN</td>\n",
       "      <td>NaN</td>\n",
       "    </tr>\n",
       "    <tr>\n",
       "      <th>waterGreen</th>\n",
       "      <td>NaN</td>\n",
       "      <td>NaN</td>\n",
       "      <td>NaN</td>\n",
       "      <td>NaN</td>\n",
       "      <td>NaN</td>\n",
       "      <td>NaN</td>\n",
       "      <td>NaN</td>\n",
       "      <td>6.0</td>\n",
       "      <td>NaN</td>\n",
       "    </tr>\n",
       "    <tr>\n",
       "      <th>waterRed</th>\n",
       "      <td>NaN</td>\n",
       "      <td>NaN</td>\n",
       "      <td>NaN</td>\n",
       "      <td>NaN</td>\n",
       "      <td>3.0</td>\n",
       "      <td>NaN</td>\n",
       "      <td>NaN</td>\n",
       "      <td>NaN</td>\n",
       "      <td>4.0</td>\n",
       "    </tr>\n",
       "  </tbody>\n",
       "</table>\n",
       "</div>"
      ],
      "text/plain": [
       "Cell1          bushGreen  bushRed  dirt  mountainGreen  mountainRed  \\\n",
       "Cell0                                                                 \n",
       "bushGreen           15.0      NaN   3.0            NaN          NaN   \n",
       "bushRed              NaN     10.0   NaN            NaN          NaN   \n",
       "mountainGreen        NaN      NaN   NaN           14.0          NaN   \n",
       "mountainRed          NaN      NaN   NaN            NaN         64.0   \n",
       "mountainWhite        NaN      NaN   NaN            NaN          NaN   \n",
       "waterGreen           NaN      NaN   NaN            NaN          NaN   \n",
       "waterRed             NaN      NaN   NaN            NaN          3.0   \n",
       "\n",
       "Cell1          mountainWhite  sand  waterGreen  waterRed  \n",
       "Cell0                                                     \n",
       "bushGreen                NaN   NaN         NaN       NaN  \n",
       "bushRed                  NaN   NaN         NaN       NaN  \n",
       "mountainGreen            NaN   NaN         NaN       NaN  \n",
       "mountainRed              NaN   1.0         NaN       NaN  \n",
       "mountainWhite            8.0   NaN         NaN       NaN  \n",
       "waterGreen               NaN   NaN         6.0       NaN  \n",
       "waterRed                 NaN   NaN         NaN       4.0  "
      ]
     },
     "execution_count": 16,
     "metadata": {},
     "output_type": "execute_result"
    }
   ],
   "source": [
    "df_pivot"
   ]
  },
  {
   "cell_type": "code",
   "execution_count": 17,
   "metadata": {
    "collapsed": false
   },
   "outputs": [
    {
     "data": {
      "text/html": [
       "<div>\n",
       "<table border=\"1\" class=\"dataframe\">\n",
       "  <thead>\n",
       "    <tr style=\"text-align: right;\">\n",
       "      <th>Cell1</th>\n",
       "      <th>bushGreen</th>\n",
       "      <th>bushRed</th>\n",
       "      <th>dirt</th>\n",
       "      <th>mountainGreen</th>\n",
       "      <th>mountainRed</th>\n",
       "      <th>mountainWhite</th>\n",
       "      <th>sand</th>\n",
       "      <th>waterGreen</th>\n",
       "      <th>waterRed</th>\n",
       "    </tr>\n",
       "    <tr>\n",
       "      <th>Cell0</th>\n",
       "      <th></th>\n",
       "      <th></th>\n",
       "      <th></th>\n",
       "      <th></th>\n",
       "      <th></th>\n",
       "      <th></th>\n",
       "      <th></th>\n",
       "      <th></th>\n",
       "      <th></th>\n",
       "    </tr>\n",
       "  </thead>\n",
       "  <tbody>\n",
       "    <tr>\n",
       "      <th>bushGreen</th>\n",
       "      <td>0.117188</td>\n",
       "      <td>0.000000</td>\n",
       "      <td>0.023438</td>\n",
       "      <td>0.000000</td>\n",
       "      <td>0.000000</td>\n",
       "      <td>0.0000</td>\n",
       "      <td>0.000000</td>\n",
       "      <td>0.000000</td>\n",
       "      <td>0.00000</td>\n",
       "    </tr>\n",
       "    <tr>\n",
       "      <th>bushRed</th>\n",
       "      <td>0.000000</td>\n",
       "      <td>0.078125</td>\n",
       "      <td>0.000000</td>\n",
       "      <td>0.000000</td>\n",
       "      <td>0.000000</td>\n",
       "      <td>0.0000</td>\n",
       "      <td>0.000000</td>\n",
       "      <td>0.000000</td>\n",
       "      <td>0.00000</td>\n",
       "    </tr>\n",
       "    <tr>\n",
       "      <th>mountainGreen</th>\n",
       "      <td>0.000000</td>\n",
       "      <td>0.000000</td>\n",
       "      <td>0.000000</td>\n",
       "      <td>0.109375</td>\n",
       "      <td>0.000000</td>\n",
       "      <td>0.0000</td>\n",
       "      <td>0.000000</td>\n",
       "      <td>0.000000</td>\n",
       "      <td>0.00000</td>\n",
       "    </tr>\n",
       "    <tr>\n",
       "      <th>mountainRed</th>\n",
       "      <td>0.000000</td>\n",
       "      <td>0.000000</td>\n",
       "      <td>0.000000</td>\n",
       "      <td>0.000000</td>\n",
       "      <td>0.500000</td>\n",
       "      <td>0.0000</td>\n",
       "      <td>0.007812</td>\n",
       "      <td>0.000000</td>\n",
       "      <td>0.00000</td>\n",
       "    </tr>\n",
       "    <tr>\n",
       "      <th>mountainWhite</th>\n",
       "      <td>0.000000</td>\n",
       "      <td>0.000000</td>\n",
       "      <td>0.000000</td>\n",
       "      <td>0.000000</td>\n",
       "      <td>0.000000</td>\n",
       "      <td>0.0625</td>\n",
       "      <td>0.000000</td>\n",
       "      <td>0.000000</td>\n",
       "      <td>0.00000</td>\n",
       "    </tr>\n",
       "    <tr>\n",
       "      <th>waterGreen</th>\n",
       "      <td>0.000000</td>\n",
       "      <td>0.000000</td>\n",
       "      <td>0.000000</td>\n",
       "      <td>0.000000</td>\n",
       "      <td>0.000000</td>\n",
       "      <td>0.0000</td>\n",
       "      <td>0.000000</td>\n",
       "      <td>0.046875</td>\n",
       "      <td>0.00000</td>\n",
       "    </tr>\n",
       "    <tr>\n",
       "      <th>waterRed</th>\n",
       "      <td>0.000000</td>\n",
       "      <td>0.000000</td>\n",
       "      <td>0.000000</td>\n",
       "      <td>0.000000</td>\n",
       "      <td>0.023438</td>\n",
       "      <td>0.0000</td>\n",
       "      <td>0.000000</td>\n",
       "      <td>0.000000</td>\n",
       "      <td>0.03125</td>\n",
       "    </tr>\n",
       "  </tbody>\n",
       "</table>\n",
       "</div>"
      ],
      "text/plain": [
       "Cell1          bushGreen   bushRed      dirt  mountainGreen  mountainRed  \\\n",
       "Cell0                                                                      \n",
       "bushGreen       0.117188  0.000000  0.023438       0.000000     0.000000   \n",
       "bushRed         0.000000  0.078125  0.000000       0.000000     0.000000   \n",
       "mountainGreen   0.000000  0.000000  0.000000       0.109375     0.000000   \n",
       "mountainRed     0.000000  0.000000  0.000000       0.000000     0.500000   \n",
       "mountainWhite   0.000000  0.000000  0.000000       0.000000     0.000000   \n",
       "waterGreen      0.000000  0.000000  0.000000       0.000000     0.000000   \n",
       "waterRed        0.000000  0.000000  0.000000       0.000000     0.023438   \n",
       "\n",
       "Cell1          mountainWhite      sand  waterGreen  waterRed  \n",
       "Cell0                                                         \n",
       "bushGreen             0.0000  0.000000    0.000000   0.00000  \n",
       "bushRed               0.0000  0.000000    0.000000   0.00000  \n",
       "mountainGreen         0.0000  0.000000    0.000000   0.00000  \n",
       "mountainRed           0.0000  0.007812    0.000000   0.00000  \n",
       "mountainWhite         0.0625  0.000000    0.000000   0.00000  \n",
       "waterGreen            0.0000  0.000000    0.046875   0.00000  \n",
       "waterRed              0.0000  0.000000    0.000000   0.03125  "
      ]
     },
     "execution_count": 17,
     "metadata": {},
     "output_type": "execute_result"
    }
   ],
   "source": [
    "# Change Observations into Probablities\n",
    "df_pivot_prob = df_pivot / df_pivot.sum().sum()\n",
    "df_pivot_prob.fillna(0, inplace=True)\n",
    "df_pivot_prob"
   ]
  },
  {
   "cell_type": "markdown",
   "metadata": {
    "collapsed": false
   },
   "source": [
    "## Background\n",
    "\n",
    "If *A* and *B* are dependent events, the probablity of this event happening can be calcluated as:\n",
    "\n",
    "**P(A ∩ B) = P(A) * P(B|A)**\n",
    "\n",
    "If A and B are independent events, the probabilty of this event happening can be calculated as:\n",
    "\n",
    "**P(A ∩ B) = P(A) * P(B)**\n",
    "\n",
    "Conditional Probability for two dependent events is\n",
    "\n",
    "**P(B | A) = P(B ∩ A) / P(A)**\n",
    "\n",
    "Conditional Probablity for to independent events is\n",
    "\n",
    "**P(B | A) = P(B) **\n",
    "\n",
    "\n",
    "## Experiment 1\n",
    "\n",
    "The cell0 value is inspected. The cell1 value is inspected. What is the probability that cell0 value will be mountainRed and cell1 value will be mountainRed?\n",
    "\n",
    "We can use the observation distribution values to see how often this happens"
   ]
  },
  {
   "cell_type": "code",
   "execution_count": 18,
   "metadata": {
    "collapsed": false
   },
   "outputs": [
    {
     "data": {
      "text/plain": [
       "64.0"
      ]
     },
     "execution_count": 18,
     "metadata": {},
     "output_type": "execute_result"
    }
   ],
   "source": [
    "df_pivot.loc[\"mountainRed\", \"mountainRed\"] "
   ]
  },
  {
   "cell_type": "markdown",
   "metadata": {},
   "source": [
    "Turn this into a probablity by dividing by the total possible outcomes"
   ]
  },
  {
   "cell_type": "code",
   "execution_count": 19,
   "metadata": {
    "collapsed": false
   },
   "outputs": [
    {
     "data": {
      "text/plain": [
       "0.5"
      ]
     },
     "execution_count": 19,
     "metadata": {},
     "output_type": "execute_result"
    }
   ],
   "source": [
    "c0mr_intersection_c1m = df_pivot.loc[\"mountainRed\", \"mountainRed\"]  / df_pivot.sum().sum()\n",
    "c0mr_intersection_c1m"
   ]
  },
  {
   "cell_type": "markdown",
   "metadata": {},
   "source": [
    "Now we know the pobabilty through the observation distribution. But are these two cells dependent or independent?\n",
    "\n",
    "If the cells are independent then P(cell0=mountainRed ∩ cell1=mountainRed) = P(cell0=mountainRed) * P(cell1=mountainRed)\n",
    "\n",
    "### What is P(A=a)\n",
    "Let's find the probabilty of just cell0=mountainRed. Looking at the observations we have"
   ]
  },
  {
   "cell_type": "code",
   "execution_count": 20,
   "metadata": {
    "collapsed": false
   },
   "outputs": [
    {
     "name": "stdout",
     "output_type": "stream",
     "text": [
      "Cell0\n",
      "bushGreen        18.0\n",
      "bushRed          10.0\n",
      "mountainGreen    14.0\n",
      "mountainRed      65.0\n",
      "mountainWhite     8.0\n",
      "waterGreen        6.0\n",
      "waterRed          7.0\n",
      "dtype: float64\n",
      "128.0\n"
     ]
    }
   ],
   "source": [
    "print df_pivot.sum(1)\n",
    "print df_pivot.sum(1).sum()"
   ]
  },
  {
   "cell_type": "code",
   "execution_count": 21,
   "metadata": {
    "collapsed": false
   },
   "outputs": [
    {
     "data": {
      "text/plain": [
       "0.5078125"
      ]
     },
     "execution_count": 21,
     "metadata": {},
     "output_type": "execute_result"
    }
   ],
   "source": [
    "c0_mr = df_pivot.sum(1)[\"mountainRed\"] / df_pivot.sum(1).sum()\n",
    "c0_mr"
   ]
  },
  {
   "cell_type": "markdown",
   "metadata": {},
   "source": [
    "### What is P(B=b)\n",
    "\n",
    "We can do the same to find when *cell1* = *mountainRed*"
   ]
  },
  {
   "cell_type": "code",
   "execution_count": 22,
   "metadata": {
    "collapsed": false
   },
   "outputs": [
    {
     "name": "stdout",
     "output_type": "stream",
     "text": [
      "Cell1\n",
      "bushGreen        15.0\n",
      "bushRed          10.0\n",
      "dirt              3.0\n",
      "mountainGreen    14.0\n",
      "mountainRed      67.0\n",
      "mountainWhite     8.0\n",
      "sand              1.0\n",
      "waterGreen        6.0\n",
      "waterRed          4.0\n",
      "dtype: float64\n",
      "128.0\n"
     ]
    }
   ],
   "source": [
    "print df_pivot.sum(0)\n",
    "print df_pivot.sum(0).sum()"
   ]
  },
  {
   "cell_type": "code",
   "execution_count": 23,
   "metadata": {
    "collapsed": false
   },
   "outputs": [
    {
     "data": {
      "text/plain": [
       "0.5234375"
      ]
     },
     "execution_count": 23,
     "metadata": {},
     "output_type": "execute_result"
    }
   ],
   "source": [
    "c1_mr = df_pivot.sum(0)[\"mountainRed\"] / df_pivot.sum(0).sum()\n",
    "c1_mr"
   ]
  },
  {
   "cell_type": "markdown",
   "metadata": {},
   "source": [
    "### What is P(B=b|A=a)\n",
    "\n",
    "We can look at the observations of cell1 when cell0 = mountainRed and calculate when cell1 is mountainRed"
   ]
  },
  {
   "cell_type": "code",
   "execution_count": 123,
   "metadata": {
    "collapsed": false
   },
   "outputs": [
    {
     "name": "stdout",
     "output_type": "stream",
     "text": [
      "Cell1\n",
      "bushGreen         NaN\n",
      "bushRed           NaN\n",
      "dirt              NaN\n",
      "mountainGreen     NaN\n",
      "mountainRed      64.0\n",
      "mountainWhite     NaN\n",
      "sand              1.0\n",
      "waterGreen        NaN\n",
      "waterRed          NaN\n",
      "Name: mountainRed, dtype: float64\n",
      "65.0\n",
      "0.984615384615\n"
     ]
    }
   ],
   "source": [
    "print df_pivot.loc[\"mountainRed\"] \n",
    "print df_pivot.loc[\"mountainRed\"].sum()\n",
    "\n",
    "c1mr_given_c0mr = (df_pivot.loc[\"mountainRed\"] /  df_pivot.loc[\"mountainRed\"].sum())[\"mountainRed\"]\n",
    "print c1mr_given_c0mr\n"
   ]
  },
  {
   "cell_type": "markdown",
   "metadata": {},
   "source": [
    "### Are P(A=a) and P(B=b) independent\n",
    "\n",
    "If they are independend then P(A ∩ B) = P(A) * P(B)\n",
    "\n",
    "Multipling the two does not give what we are looking for"
   ]
  },
  {
   "cell_type": "code",
   "execution_count": 24,
   "metadata": {
    "collapsed": false
   },
   "outputs": [
    {
     "name": "stdout",
     "output_type": "stream",
     "text": [
      "0.265808105469\n",
      "False\n"
     ]
    }
   ],
   "source": [
    "print c0_mr * c1_mr\n",
    "print c0_mr * c1_mr == c0mr_intersection_c1m"
   ]
  },
  {
   "cell_type": "markdown",
   "metadata": {},
   "source": [
    "### Are P(A=a) and P(B=b) dependent\n",
    "\n",
    "If they are independend then P(A ∩ B) = P(A) * P(B|A)\n",
    "\n",
    "Multiplying P(cell0=mountainRed) and P(cell1=mountainRed | cell0=mountainRed) gives:"
   ]
  },
  {
   "cell_type": "code",
   "execution_count": 126,
   "metadata": {
    "collapsed": false
   },
   "outputs": [
    {
     "data": {
      "text/plain": [
       "True"
      ]
     },
     "execution_count": 126,
     "metadata": {},
     "output_type": "execute_result"
    }
   ],
   "source": [
    "c0_mr * c1mr_given_c0mr == c0mr_intersection_c1m"
   ]
  }
 ],
 "metadata": {
  "anaconda-cloud": {},
  "kernelspec": {
   "display_name": "Python [default]",
   "language": "python",
   "name": "python2"
  },
  "language_info": {
   "codemirror_mode": {
    "name": "ipython",
    "version": 2
   },
   "file_extension": ".py",
   "mimetype": "text/x-python",
   "name": "python",
   "nbconvert_exporter": "python",
   "pygments_lexer": "ipython2",
   "version": "2.7.12"
  }
 },
 "nbformat": 4,
 "nbformat_minor": 1
}
