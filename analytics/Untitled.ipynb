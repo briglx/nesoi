{
 "cells": [
  {
   "cell_type": "markdown",
   "metadata": {},
   "source": [
    "# Test for independence\n",
    "\n",
    "Two discrete random variables ***X*** and ***Y*** are independent if the joint probability mass function satisfies\n",
    "\n",
    "***P(X=x and Y=y)=P(X=x)·P(Y=y)***\n",
    "\n",
    "for all x and y.\n",
    "\n",
    "This lab will check each cell to see if there are any independant between cells\n",
    "\n",
    "The grid index is setup as\n",
    "\n",
    "| 0   | 1   | 2   | 3   | 4   | 5   | 6   | 7   | 8   | 9   | 10  | 11  | 12  | 13  | 14  | 15  |\n",
    "|-----|-----|-----|-----|-----|-----|-----|-----|-----|-----|-----|-----|-----|-----|-----|-----|\n",
    "| 16  | 17  | 18  | 19  | 20  | 21  | 22  | 23  | 24  | 25  | 26  | 27  | 28  | 29  | 30  | 31  |\n",
    "| 32  | 33  | 34  | 35  | 36  | 37  | 38  | 30  | 40  | 41  | 42  | 43  | 44  | 45  | 46  | 47  |\n",
    "| 48  | 49  | 50  | 51  | 52  | 53  | 54  | 55  | 56  | 57  | 58  | 59  | 60  | 61  | 62  | 63  |\n",
    "| 64  | 65  | 66  | 67  | 68  | 69  | 70  | 71  | 72  | 73  | 74  | 75  | 76  | 77  | 78  | 79  |\n",
    "| 80  | 81  | 82  | 83  | 84  | 85  | 86  | 87  | 88  | 89  | 90  | 91  | 92  | 93  | 94  | 95  |\n",
    "| 96  | 97  | 98  | 99  | 100 | 101 | 102 | 103 | 104 | 105 | 106 | 107 | 108 | 109 | 110 | 111 |\n",
    "| 112 | 113 | 114 | 115 | 116 | 117 | 118 | 119 | 120 | 121 | 122 | 123 | 124 | 125 | 126 | 127 |\n",
    "| 128 | 129 | 130 | 131 | 132 | 133 | 134 | 135 | 136 | 137 | 138 | 139 | 140 | 141 | 142 | 143 |\n",
    "| 144 | 145 | 146 | 147 | 148 | 149 | 150 | 151 | 152 | 153 | 154 | 155 | 156 | 157 | 158 | 159 |\n",
    "| 160 | 161 | 162 | 163 | 164 | 165 | 166 | 167 | 168 | 169 | 170 | 171 | 172 | 173 | 174 | 175 |\n",
    "\n",
    "\n",
    "The x,y coordinates are setup as\n",
    "\n",
    "| 0  | 1 | 2 | 3 | 4 | 5 | 6 | 7 | 8 | 9 | 10 | 11 | 12 | 13 | 14 | 15 |\n",
    "|----|---|---|---|---|---|---|---|---|---|----|----|----|----|----|----|\n",
    "| 1  |   |   |   |   |   |   |   |   |   |    |    |    |    |    |    |\n",
    "| 2  |   |   |   |   |   |   |   |   |   |    |    |    |    |    |    |\n",
    "| 3  |   |   |   |   |   |   |   |   |   |    |    |    |    |    |    |\n",
    "| 4  |   |   |   |   |   |   |   |   |   |    |    |    |    |    |    |\n",
    "| 5  |   |   |   |   |   |   |   |   |   |    |    |    |    |    |    |\n",
    "| 6  |   |   |   |   |   |   |   |   |   |    |    |    |    |    |    |\n",
    "| 7  |   |   |   |   |   |   |   |   |   |    |    |    |    |    |    |\n",
    "| 8  |   |   |   |   |   |   |   |   |   |    |    |    |    |    |    |\n",
    "| 9  |   |   |   |   |   |   |   |   |   |    |    |    |    |    |    |\n",
    "| 10 |   |   |   |   |   |   |   |   |   |    |    |    |    |    |    |\n",
    "\n",
    "\n",
    "## References\n",
    "* https://en.wikipedia.org/wiki/Joint_probability_distribution\n",
    "* http://stattrek.com/online-calculator/probability-calculator.aspx\n",
    "* https://www.boundless.com/statistics/textbooks/boundless-statistics-textbook/probability-8/what-are-the-chances-33/unions-and-intersections-168-4442/\n"
   ]
  },
  {
   "cell_type": "code",
   "execution_count": 5,
   "metadata": {
    "collapsed": true
   },
   "outputs": [],
   "source": [
    "import pymongo\n",
    "import operator\n",
    "import numpy as np\n",
    "from pymongo import MongoClient\n",
    "import pandas as pd"
   ]
  },
  {
   "cell_type": "code",
   "execution_count": 6,
   "metadata": {
    "collapsed": false
   },
   "outputs": [
    {
     "data": {
      "text/plain": [
       "22639"
      ]
     },
     "execution_count": 6,
     "metadata": {},
     "output_type": "execute_result"
    }
   ],
   "source": [
    "# Load dataset\n",
    "client = MongoClient('localhost', 27017)\n",
    "db = client.nesoi\n",
    "terrain = db.terrain\n",
    "terrain.count() # Should be 22639"
   ]
  },
  {
   "cell_type": "code",
   "execution_count": 7,
   "metadata": {
    "collapsed": false
   },
   "outputs": [
    {
     "name": "stdout",
     "output_type": "stream",
     "text": [
      "[u'bridge', u'bridgeGreen', u'bushGreen', u'bushRed', u'bushWhite', u'cave', u'dirt', u'dirtGrey', u'gateGreenCyclopsTop', u'gateGreenLeft', u'gateGreenRight', u'gateGreenTop', u'gateGreenTopLeft', u'gateGreenTopRight', u'gateRedLeft', u'gateRedRight', u'gateRedTop', u'gateRedTopLeft', u'gateRedTopRight', u'gateWhiteCyclopsTop', u'gateWhiteLeft', u'gateWhiteRight', u'gateWhiteTop', u'gateWhiteTopLeft', u'gateWhiteTopRight', u'guardGreen', u'guardRed', u'guardWhite', u'headstone', u'ladderGreen', u'ladderRed', u'ladderWhite', u'mountainGreen', u'mountainGreenLowerLeft', u'mountainGreenLowerRight', u'mountainGreenTop', u'mountainGreenTopLeft', u'mountainGreenTopRight', u'mountainRed', u'mountainRedLowerLeft', u'mountainRedLowerRight', u'mountainRedTop', u'mountainRedTopLeft', u'mountainRedTopRight', u'mountainWhite', u'mountainWhiteLowerLeft', u'mountainWhiteLowerRight', u'mountainWhiteTop', u'mountainWhiteTopLeft', u'mountainWhiteTopRight', u'rockGreen', u'rockRed', u'sand', u'sandRedLeft', u'sandRedLower', u'sandRedLowerLeft', u'sandRedLowerRight', u'sandRedRight', u'sandRedTop', u'sandRedTopLeft', u'sandRedTopRight', u'treeGreenLeft', u'treeGreenRight', u'treeGreenTop', u'treeGreenTopLeft', u'treeGreenTopRight', u'treeRedLeft', u'treeRedRight', u'treeRedTop', u'treeRedTopLeft', u'treeRedTopRight', u'water', u'waterGreen', u'waterGreenLeft', u'waterGreenLower', u'waterGreenLowerLeft', u'waterGreenLowerRight', u'waterGreenOutsideTopLeft', u'waterGreenOutsideTopRight', u'waterGreenRight', u'waterGreenTop', u'waterGreenTopLeft', u'waterGreenTopRight', u'waterRed', u'waterRedLeft', u'waterRedLower', u'waterRedLowerLeft', u'waterRedLowerRight', u'waterRedOutsideLowerLeft', u'waterRedOutsideLowerRight', u'waterRedOutsideTopLeft', u'waterRedOutsideTopRight', u'waterRedRight', u'waterRedTop', u'waterRedTopLeft', u'waterRedTopRight', u'waterfall']\n"
     ]
    }
   ],
   "source": [
    "CType = createCType()\n",
    "print CType"
   ]
  },
  {
   "cell_type": "code",
   "execution_count": 8,
   "metadata": {
    "collapsed": true
   },
   "outputs": [],
   "source": []
  },
  {
   "cell_type": "code",
   "execution_count": 9,
   "metadata": {
    "collapsed": false
   },
   "outputs": [
    {
     "data": {
      "text/plain": [
       "[(u'mountainRed', 50.78125),\n",
       " (u'bushGreen', 14.0625),\n",
       " (u'mountainGreen', 10.9375),\n",
       " (u'bushRed', 7.8125),\n",
       " (u'mountainWhite', 6.25),\n",
       " (u'waterRed', 5.46875),\n",
       " (u'waterGreen', 4.6875)]"
      ]
     },
     "execution_count": 9,
     "metadata": {},
     "output_type": "execute_result"
    }
   ],
   "source": [
    "getDistribution(0)"
   ]
  },
  {
   "cell_type": "code",
   "execution_count": 10,
   "metadata": {
    "collapsed": false
   },
   "outputs": [
    {
     "data": {
      "text/plain": [
       "[(u'mountainRed', 51.93798449612403),\n",
       " (u'bushGreen', 12.4031007751938),\n",
       " (u'mountainGreen', 10.852713178294573),\n",
       " (u'bushRed', 7.751937984496124),\n",
       " (u'mountainWhite', 6.2015503875969),\n",
       " (u'waterGreen', 4.651162790697675),\n",
       " (u'waterRed', 3.10077519379845),\n",
       " (u'dirt', 2.3255813953488373),\n",
       " (u'sand', 0.7751937984496124)]"
      ]
     },
     "execution_count": 10,
     "metadata": {},
     "output_type": "execute_result"
    }
   ],
   "source": [
    "getDistribution(1)"
   ]
  },
  {
   "cell_type": "code",
   "execution_count": 11,
   "metadata": {
    "collapsed": true
   },
   "outputs": [],
   "source": [
    "df = getPairs(0,1)"
   ]
  },
  {
   "cell_type": "code",
   "execution_count": null,
   "metadata": {
    "collapsed": true
   },
   "outputs": [],
   "source": [
    "def print_full(x):\n",
    "    pd.set_option('display.max_rows', len(x))\n",
    "    print(x)\n",
    "    pd.reset_option('display.max_rows')\n",
    "    \n",
    "print_full(df)"
   ]
  },
  {
   "cell_type": "code",
   "execution_count": null,
   "metadata": {
    "collapsed": true
   },
   "outputs": [],
   "source": [
    "# P(X=x and Y=y)=P(X=x)·P(Y=y)\n",
    "marginal0 = getMarginal(df, \"Cell0\") \n",
    "marginal1 =  getMarginal(df, \"Cell1\")\n",
    "print marginal0\n",
    "print marginal1\n"
   ]
  },
  {
   "cell_type": "code",
   "execution_count": null,
   "metadata": {
    "collapsed": true
   },
   "outputs": [],
   "source": [
    "cp = cartisianProduct(marginal0, marginal1)"
   ]
  },
  {
   "cell_type": "code",
   "execution_count": null,
   "metadata": {
    "collapsed": true
   },
   "outputs": [],
   "source": [
    "# Check if the probabilities are the same\n",
    "df_pivot_prob - cp "
   ]
  },
  {
   "cell_type": "code",
   "execution_count": null,
   "metadata": {
    "collapsed": true
   },
   "outputs": [],
   "source": [
    "# We can find P(A ∪ B)\n",
    "\n",
    "# P(cell0=mountainRed) ∪ P(cell1=mountainRed)\n",
    "# Add up all the times cell0=mountainRed or cell1=mountainRed 64 + 3 + 1 ... don't count the 64 twice\n",
    "c0mr_union_c1mr = (df_pivot.loc[\"mountainRed\"].sum() + df_pivot[\"mountainRed\"].sum() -  df_pivot.loc[\"mountainRed\"][\"mountainRed\"]) / df_pivot.sum().sum()\n",
    "print c0mr_union_c1mr"
   ]
  },
  {
   "cell_type": "code",
   "execution_count": null,
   "metadata": {
    "collapsed": true
   },
   "outputs": [],
   "source": [
    "#p(cell0=mountainRed)\n",
    "c0_mr =  marginal0.loc[\"mountainRed\"].Prob\n",
    "c1_mr =  marginal1.loc[\"mountainRed\"].Prob\n",
    "print c0_mr\n",
    "print c1_mr\n",
    "print c0_mr + c1_mr"
   ]
  },
  {
   "cell_type": "code",
   "execution_count": null,
   "metadata": {
    "collapsed": true
   },
   "outputs": [],
   "source": [
    "# If depended: then this should be true // I don't know if this formula is correct\n",
    "# P(A ∩ B) = P(A ∪ B) - (P(A) + P(B))\n",
    "print c0mr_intersection_c1mr\n",
    "print c0mr_union_c1mr - (c0_mr + c1_mr)"
   ]
  },
  {
   "cell_type": "code",
   "execution_count": null,
   "metadata": {
    "collapsed": true
   },
   "outputs": [],
   "source": [
    "# If independent then this should be true\n",
    "# P(A ∩ B) = P(A) * P(B)\n",
    "print c0mr_intersection_c1mr\n",
    "print c0_mr * c1_mr"
   ]
  },
  {
   "cell_type": "code",
   "execution_count": null,
   "metadata": {
    "collapsed": true
   },
   "outputs": [],
   "source": [
    "# Are they dependent\n",
    "# # P(A ∩ B) = P(A) * P(B|A)\n",
    "c1mr_given_c0mr = (df_pivot.loc[\"mountainRed\"] /  df_pivot.loc[\"mountainRed\"].sum())[\"mountainRed\"]\n",
    "print c1mr_given_c0mr\n",
    "\n",
    "print c0mr_intersection_c1mr \n",
    "print c0_mr * c1mr_given_c0mr\n",
    "print c0mr_intersection_c1mr == c0_mr * c1mr_given_c0mr"
   ]
  }
 ],
 "metadata": {
  "kernelspec": {
   "display_name": "Python [default]",
   "language": "python",
   "name": "python2"
  },
  "language_info": {
   "codemirror_mode": {
    "name": "ipython",
    "version": 2
   },
   "file_extension": ".py",
   "mimetype": "text/x-python",
   "name": "python",
   "nbconvert_exporter": "python",
   "pygments_lexer": "ipython2",
   "version": "2.7.12"
  }
 },
 "nbformat": 4,
 "nbformat_minor": 1
}
